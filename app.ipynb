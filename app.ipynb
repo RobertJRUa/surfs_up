{
 "cells": [
  {
   "cell_type": "markdown",
   "metadata": {},
   "source": [
    "# Climate app "
   ]
  },
  {
   "cell_type": "code",
   "execution_count": null,
   "metadata": {},
   "outputs": [
    {
     "name": "stdout",
     "output_type": "stream",
     "text": [
      "2019-04-20 20:06:24,999 INFO sqlalchemy.engine.base.Engine SELECT CAST('test plain returns' AS VARCHAR(60)) AS anon_1\n",
      "2019-04-20 20:06:25,000 INFO sqlalchemy.engine.base.Engine ()\n",
      "2019-04-20 20:06:25,002 INFO sqlalchemy.engine.base.Engine SELECT CAST('test unicode returns' AS VARCHAR(60)) AS anon_1\n",
      "2019-04-20 20:06:25,003 INFO sqlalchemy.engine.base.Engine ()\n",
      "2019-04-20 20:06:25,004 INFO sqlalchemy.engine.base.Engine SELECT name FROM sqlite_master WHERE type='table' ORDER BY name\n",
      "2019-04-20 20:06:25,005 INFO sqlalchemy.engine.base.Engine ()\n",
      "2019-04-20 20:06:25,007 INFO sqlalchemy.engine.base.Engine PRAGMA table_info(\"measurement\")\n",
      "2019-04-20 20:06:25,007 INFO sqlalchemy.engine.base.Engine ()\n",
      "2019-04-20 20:06:25,010 INFO sqlalchemy.engine.base.Engine SELECT sql FROM  (SELECT * FROM sqlite_master UNION ALL   SELECT * FROM sqlite_temp_master) WHERE name = 'measurement' AND type = 'table'\n",
      "2019-04-20 20:06:25,010 INFO sqlalchemy.engine.base.Engine ()\n",
      "2019-04-20 20:06:25,012 INFO sqlalchemy.engine.base.Engine PRAGMA foreign_key_list(\"measurement\")\n",
      "2019-04-20 20:06:25,012 INFO sqlalchemy.engine.base.Engine ()\n",
      "2019-04-20 20:06:25,013 INFO sqlalchemy.engine.base.Engine SELECT sql FROM  (SELECT * FROM sqlite_master UNION ALL   SELECT * FROM sqlite_temp_master) WHERE name = 'measurement' AND type = 'table'\n",
      "2019-04-20 20:06:25,014 INFO sqlalchemy.engine.base.Engine ()\n",
      "2019-04-20 20:06:25,015 INFO sqlalchemy.engine.base.Engine PRAGMA index_list(\"measurement\")\n",
      "2019-04-20 20:06:25,016 INFO sqlalchemy.engine.base.Engine ()\n",
      "2019-04-20 20:06:25,017 INFO sqlalchemy.engine.base.Engine PRAGMA index_list(\"measurement\")\n",
      "2019-04-20 20:06:25,018 INFO sqlalchemy.engine.base.Engine ()\n",
      "2019-04-20 20:06:25,019 INFO sqlalchemy.engine.base.Engine SELECT sql FROM  (SELECT * FROM sqlite_master UNION ALL   SELECT * FROM sqlite_temp_master) WHERE name = 'measurement' AND type = 'table'\n",
      "2019-04-20 20:06:25,020 INFO sqlalchemy.engine.base.Engine ()\n",
      "2019-04-20 20:06:25,023 INFO sqlalchemy.engine.base.Engine PRAGMA table_info(\"station\")\n",
      "2019-04-20 20:06:25,024 INFO sqlalchemy.engine.base.Engine ()\n",
      "2019-04-20 20:06:25,027 INFO sqlalchemy.engine.base.Engine SELECT sql FROM  (SELECT * FROM sqlite_master UNION ALL   SELECT * FROM sqlite_temp_master) WHERE name = 'station' AND type = 'table'\n",
      "2019-04-20 20:06:25,028 INFO sqlalchemy.engine.base.Engine ()\n",
      "2019-04-20 20:06:25,029 INFO sqlalchemy.engine.base.Engine PRAGMA foreign_key_list(\"station\")\n",
      "2019-04-20 20:06:25,030 INFO sqlalchemy.engine.base.Engine ()\n",
      "2019-04-20 20:06:25,031 INFO sqlalchemy.engine.base.Engine SELECT sql FROM  (SELECT * FROM sqlite_master UNION ALL   SELECT * FROM sqlite_temp_master) WHERE name = 'station' AND type = 'table'\n",
      "2019-04-20 20:06:25,032 INFO sqlalchemy.engine.base.Engine ()\n",
      "2019-04-20 20:06:25,034 INFO sqlalchemy.engine.base.Engine PRAGMA index_list(\"station\")\n",
      "2019-04-20 20:06:25,035 INFO sqlalchemy.engine.base.Engine ()\n",
      "2019-04-20 20:06:25,036 INFO sqlalchemy.engine.base.Engine PRAGMA index_list(\"station\")\n",
      "2019-04-20 20:06:25,036 INFO sqlalchemy.engine.base.Engine ()\n",
      "2019-04-20 20:06:25,037 INFO sqlalchemy.engine.base.Engine SELECT sql FROM  (SELECT * FROM sqlite_master UNION ALL   SELECT * FROM sqlite_temp_master) WHERE name = 'station' AND type = 'table'\n",
      "2019-04-20 20:06:25,038 INFO sqlalchemy.engine.base.Engine ()\n",
      " * Serving Flask app \"__main__\" (lazy loading)\n",
      " * Environment: production\n",
      "   WARNING: Do not use the development server in a production environment.\n",
      "   Use a production WSGI server instead.\n",
      " * Debug mode: off\n"
     ]
    },
    {
     "name": "stderr",
     "output_type": "stream",
     "text": [
      " * Running on http://0.0.0.0:81/ (Press CTRL+C to quit)\n",
      "127.0.0.1 - - [20/Apr/2019 20:06:27] \"GET / HTTP/1.1\" 200 -\n",
      "127.0.0.1 - - [20/Apr/2019 20:06:28] \"GET /favicon.ico HTTP/1.1\" 404 -\n"
     ]
    },
    {
     "name": "stdout",
     "output_type": "stream",
     "text": [
      "2019-04-20 20:06:37,569 INFO sqlalchemy.engine.base.Engine BEGIN (implicit)\n",
      "2019-04-20 20:06:37,571 INFO sqlalchemy.engine.base.Engine SELECT measurement.date AS measurement_date, measurement.prcp AS measurement_prcp \n",
      "FROM measurement \n",
      "WHERE measurement.date >= ?\n",
      "2019-04-20 20:06:37,572 INFO sqlalchemy.engine.base.Engine ('2016-08-23',)\n"
     ]
    },
    {
     "name": "stderr",
     "output_type": "stream",
     "text": [
      "127.0.0.1 - - [20/Apr/2019 20:06:37] \"GET /api/v1.0/precipitation HTTP/1.1\" 200 -\n",
      "127.0.0.1 - - [20/Apr/2019 20:08:18] \"GET / HTTP/1.1\" 200 -\n"
     ]
    },
    {
     "name": "stdout",
     "output_type": "stream",
     "text": [
      "2019-04-20 20:08:27,497 INFO sqlalchemy.engine.base.Engine SELECT measurement.date AS measurement_date, measurement.tobs AS measurement_tobs \n",
      "FROM measurement \n",
      "WHERE measurement.date >= ?\n",
      "2019-04-20 20:08:27,498 INFO sqlalchemy.engine.base.Engine ('2016-08-23',)\n"
     ]
    },
    {
     "name": "stderr",
     "output_type": "stream",
     "text": [
      "127.0.0.1 - - [20/Apr/2019 20:08:27] \"GET /api/v1.0/tobs HTTP/1.1\" 200 -\n"
     ]
    }
   ],
   "source": [
    "# Dependencies\n",
    "from flask import Flask, jsonify\n",
    "\n",
    "import numpy as np\n",
    "import pandas as pd\n",
    "import datetime as dt\n",
    "\n",
    "# Python SQL toolkit and Object Relational Mapper\n",
    "import sqlalchemy\n",
    "from sqlalchemy.ext.automap import automap_base\n",
    "from sqlalchemy.orm import Session\n",
    "from sqlalchemy import create_engine, func\n",
    "\n",
    "# Database Setup\n",
    "engine = create_engine(\"sqlite:///Resources/hawaii.sqlite\", connect_args={'check_same_thread': False}, echo=True)\n",
    "\n",
    "# Reflect database into a new model\n",
    "Base = automap_base()\n",
    "# Reflect the tables\n",
    "Base.prepare(engine, reflect=True)\n",
    "\n",
    "# Save references to each table\n",
    "Measurement = Base.classes.measurement\n",
    "Station = Base.classes.station\n",
    "\n",
    "# Create our session (link) from Python to the DB\n",
    "session = Session(engine)\n",
    "\n",
    "# Flask Setup\n",
    "app = Flask(__name__)\n",
    "\n",
    "#Flask Routes\n",
    "@app.route(\"/\")\n",
    "def welcome():\n",
    "    return (\n",
    "        f\"Hawaii Climate Analysis:<br/>\"\n",
    "        f\"/api/v1.0/precipitation<br/>\"\n",
    "        f\"/api/v1.0/stations<br/>\"\n",
    "        f\"/api/v1.0/tobs<br/>\"\n",
    "        f\"/api/v1.0/start<br/>\"\n",
    "        f\"/api/v1.0/start/end<br/>\")\n",
    "\n",
    "# Precipitation API\n",
    "@app.route(\"/api/v1.0/precipitation\")\n",
    "def precipitation():\n",
    "    year_ago = dt.date(2017, 8, 23) - dt.timedelta(days=365)\n",
    "    precip_query = session.query(Measurement.date, Measurement.prcp).filter(Measurement.date >= year_ago).all()\n",
    "\n",
    "    precip = {date: prcp for date, prcp in precip_query}\n",
    "\n",
    "    return jsonify(precip)\n",
    "\n",
    "# Stations API\n",
    "@app.route(\"/api/v1.0/stations\")\n",
    "def stations():\n",
    "    station_query = session.query(Station.station, Station.name).all()\n",
    "\n",
    "    station = list(np.ravel(station_query))\n",
    "\n",
    "    return jsonify(station)\n",
    "\n",
    "# Temperature Observations API\n",
    "@app.route(\"/api/v1.0/tobs\")\n",
    "def temp_obs():\n",
    "    year_ago = dt.date(2017, 8, 23) - dt.timedelta(days=365)\n",
    "    tobs_query = session.query(Measurement.date, Measurement.tobs).\\\n",
    "    filter(Measurement.date >= year_ago).all()\n",
    "\n",
    "    tobs = list(np.ravel(tobs_query))\n",
    "\n",
    "    return jsonify(tobs)\n",
    "\n",
    "# Start date API\n",
    "@app.route(\"/api/v1.0/<start>\")\n",
    "def temp_start(start):\n",
    "    query = session.query(func.min(Measurement.tobs), func.avg(Measurement.tobs), func.max(Measurement.tobs)).\\\n",
    "    filter(Measurement.date >= start).all()\n",
    "\n",
    "    temp = list(np.ravel(query))\n",
    "\n",
    "    return jsonify(temp)\n",
    "\n",
    "# Start/End date API\n",
    "@app.route(\"/api/v1.0/<start>/<end>\")\n",
    "def date_range(start, end):\n",
    "    query = session.query(func.min(Measurement.tobs), func.avg(Measurement.tobs), func.max(Measurement.tobs)).\\\n",
    "    filter(Measurement.date >= start).filter(Measurement.date <= end).all()\n",
    "\n",
    "    temp =list(np.ravel(query))\n",
    "\n",
    "    return jsonify(temp)\n",
    "\n",
    "if __name__ == \"__main__\":\n",
    "    #app.run(debug=True)\n",
    "    app.run(host='0.0.0.0', port=81)"
   ]
  },
  {
   "cell_type": "code",
   "execution_count": null,
   "metadata": {},
   "outputs": [],
   "source": []
  }
 ],
 "metadata": {
  "kernelspec": {
   "display_name": "Python 3",
   "language": "python",
   "name": "python3"
  },
  "language_info": {
   "codemirror_mode": {
    "name": "ipython",
    "version": 3
   },
   "file_extension": ".py",
   "mimetype": "text/x-python",
   "name": "python",
   "nbconvert_exporter": "python",
   "pygments_lexer": "ipython3",
   "version": "3.7.1"
  }
 },
 "nbformat": 4,
 "nbformat_minor": 2
}
